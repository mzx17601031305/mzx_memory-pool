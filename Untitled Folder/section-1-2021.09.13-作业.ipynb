{
 "cells": [
  {
   "cell_type": "code",
   "execution_count": null,
   "id": "d962016c",
   "metadata": {},
   "outputs": [
    {
     "name": "stdout",
     "output_type": "stream",
     "text": [
      "请输入最帅的人的名字:70\n"
     ]
    },
    {
     "name": "stderr",
     "output_type": "stream",
     "text": [
      "sh: cls: command not found\n"
     ]
    },
    {
     "name": "stdout",
     "output_type": "stream",
     "text": [
      "恭喜你答对了！\n",
      "首先我是叫马梓轩\n",
      "首先我是叫马梓轩\n",
      "是一个网络运维工程师，名词应该是数通工程师\n",
      "因为想往自动化运维和网络安全渗透工程师方面转行，\n",
      "所以想系统的学习一下PYTHON，请大家多指教\n",
      "32512\n",
      "------------下面是作业1(输入需要查询的数字)--------------------\n",
      "请输入十进制数值：1238123\n"
     ]
    },
    {
     "name": "stderr",
     "output_type": "stream",
     "text": [
      "sh: cls: command not found\n"
     ]
    },
    {
     "name": "stdout",
     "output_type": "stream",
     "text": [
      "0b100101110010001101011\n",
      "32512\n",
      "------------下面是作业2(搜索到的编程语言)------------- -------\n"
     ]
    }
   ],
   "source": [
    "import os\n",
    "a = 0\n",
    "while a < 3:\n",
    "    name = input('请输入最帅的人的名字:')\n",
    "    me = \"70\"\n",
    "    # print (me)\n",
    "    if name == me:\n",
    "        print(\"恭喜你答对了！\")\n",
    "        print(\"首先我是叫马梓轩\")\n",
    "        print(\"首先我是叫马梓轩\")\n",
    "        print(\"是一个网络运维工程师，名词应该是数通工程师\")\n",
    "        print(\"因为想往自动化运维和网络安全渗透工程师方面转行，\")\n",
    "        print(\"所以想系统的学习一下PYTHON，请大家多指教\")\n",
    "        break\n",
    "    else:\n",
    "        print(\"您输入的不是最帅的人，请重新输入\")\n",
    "        a+=1\n",
    "else:\n",
    "    print('输入超过三次咯，你不知道最帅的人是谁了')\n",
    "i = os.system(\"cls\")\n",
    "print(i)\n",
    "\n",
    "print('------------下面是作业1(输入需要查询的数字)--------------------')\n",
    "num1 = (int(input('请输入十进制数值：')))\n",
    "print(bin(num1))\n",
    "i = os.system(\"cls\")\n",
    "print(i)\n",
    "\n",
    "print('------------下面是作业2(搜索到的编程语言)------------- -------')\n",
    "\n",
    "a = 0\n",
    "for a in range(1,5):\n",
    "    ranking = int(input(\"你想知道2021年的语言排行榜前5名吗，请输入（1～5）：\"))\n",
    "    if ranking == 1:\n",
    "        print('排名第一的是：JAVA')\n",
    "        break\n",
    "    elif ranking == 2:\n",
    "        print('排名第二的是：C')\n",
    "        break\n",
    "    elif ranking == 3:\n",
    "        print('排名第三的是：pyhton')\n",
    "        break\n",
    "    elif ranking == 4:\n",
    "        print('排名第四的是：C++')\n",
    "        break\n",
    "    elif ranking == 5:\n",
    "        print('排名第五的是：.nat')\n",
    "        break\n",
    "    else:\n",
    "        print('请重新输入')\n",
    "        a+=1\n",
    "else:\n",
    "    print(\"输入错误过多！拜拜\")\n",
    "\n"
   ]
  },
  {
   "cell_type": "code",
   "execution_count": 8,
   "id": "64cc2b9f",
   "metadata": {},
   "outputs": [
    {
     "name": "stdout",
     "output_type": "stream",
     "text": [
      "请输入十进制数值：123\n",
      "转换的二进制为： 0b1111011\n",
      "请输入十进制数值：ad\n"
     ]
    },
    {
     "ename": "ValueError",
     "evalue": "invalid literal for int() with base 10: 'ad'",
     "output_type": "error",
     "traceback": [
      "\u001b[0;31m---------------------------------------------------------------------------\u001b[0m",
      "\u001b[0;31mValueError\u001b[0m                                Traceback (most recent call last)",
      "\u001b[0;32m/var/folders/bc/59cpm_3j7h5_jt9jjnh9qpp40000gn/T/ipykernel_1029/1631791747.py\u001b[0m in \u001b[0;36m<module>\u001b[0;34m\u001b[0m\n\u001b[1;32m      1\u001b[0m \u001b[0;32mfor\u001b[0m \u001b[0ma\u001b[0m \u001b[0;32min\u001b[0m \u001b[0mrange\u001b[0m\u001b[0;34m(\u001b[0m\u001b[0;36m1\u001b[0m\u001b[0;34m,\u001b[0m\u001b[0;36m6\u001b[0m\u001b[0;34m)\u001b[0m\u001b[0;34m:\u001b[0m\u001b[0;34m\u001b[0m\u001b[0;34m\u001b[0m\u001b[0m\n\u001b[0;32m----> 2\u001b[0;31m     \u001b[0mnum1\u001b[0m \u001b[0;34m=\u001b[0m \u001b[0mint\u001b[0m\u001b[0;34m(\u001b[0m\u001b[0minput\u001b[0m\u001b[0;34m(\u001b[0m\u001b[0;34m'请输入十进制数值：'\u001b[0m\u001b[0;34m)\u001b[0m\u001b[0;34m)\u001b[0m\u001b[0;34m\u001b[0m\u001b[0;34m\u001b[0m\u001b[0m\n\u001b[0m\u001b[1;32m      3\u001b[0m     \u001b[0;32mif\u001b[0m \u001b[0misinstance\u001b[0m\u001b[0;34m(\u001b[0m\u001b[0mnum1\u001b[0m\u001b[0;34m,\u001b[0m\u001b[0mint\u001b[0m\u001b[0;34m)\u001b[0m\u001b[0;34m:\u001b[0m\u001b[0;34m\u001b[0m\u001b[0;34m\u001b[0m\u001b[0m\n\u001b[1;32m      4\u001b[0m         \u001b[0mprint\u001b[0m\u001b[0;34m(\u001b[0m\u001b[0;34m'转换的二进制为：'\u001b[0m\u001b[0;34m,\u001b[0m\u001b[0mbin\u001b[0m\u001b[0;34m(\u001b[0m\u001b[0mnum1\u001b[0m\u001b[0;34m)\u001b[0m\u001b[0;34m)\u001b[0m\u001b[0;34m\u001b[0m\u001b[0;34m\u001b[0m\u001b[0m\n\u001b[1;32m      5\u001b[0m     \u001b[0;32melse\u001b[0m\u001b[0;34m:\u001b[0m\u001b[0;34m\u001b[0m\u001b[0;34m\u001b[0m\u001b[0m\n",
      "\u001b[0;31mValueError\u001b[0m: invalid literal for int() with base 10: 'ad'"
     ]
    }
   ],
   "source": [
    "for a in range(1,6):\n",
    "    num1 = int(input('请输入十进制数值：'))\n",
    "    if isinstance(num1,int):\n",
    "        print('转换的二进制为：',bin(num1))\n",
    "    else:\n",
    "        print('请重新输入十进制数值：')\n",
    "        a+=1\n",
    "else:\n",
    "    print('输入错误5次，已停止运行')"
   ]
  },
  {
   "cell_type": "code",
   "execution_count": 6,
   "id": "8b780d05",
   "metadata": {},
   "outputs": [
    {
     "name": "stdout",
     "output_type": "stream",
     "text": [
      "123\n",
      "<class 'str'>\n"
     ]
    }
   ],
   "source": [
    "a = input()\n",
    "print(type(a))"
   ]
  },
  {
   "cell_type": "code",
   "execution_count": null,
   "id": "64afee61",
   "metadata": {},
   "outputs": [],
   "source": []
  }
 ],
 "metadata": {
  "kernelspec": {
   "display_name": "Python 3 (ipykernel)",
   "language": "python",
   "name": "python3"
  },
  "language_info": {
   "codemirror_mode": {
    "name": "ipython",
    "version": 3
   },
   "file_extension": ".py",
   "mimetype": "text/x-python",
   "name": "python",
   "nbconvert_exporter": "python",
   "pygments_lexer": "ipython3",
   "version": "3.9.7"
  }
 },
 "nbformat": 4,
 "nbformat_minor": 5
}
