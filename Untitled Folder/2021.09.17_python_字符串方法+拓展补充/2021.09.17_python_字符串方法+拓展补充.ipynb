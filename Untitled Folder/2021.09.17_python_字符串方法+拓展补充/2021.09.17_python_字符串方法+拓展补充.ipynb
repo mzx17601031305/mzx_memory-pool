{
 "cells": [
  {
   "cell_type": "code",
   "execution_count": 24,
   "id": "bd93c9ae",
   "metadata": {},
   "outputs": [
    {
     "data": {
      "text/plain": [
       "'\\n字符串方法：\\n    ~增：\\n    ~删：\\n        字符串名.replace(要取代的名,替代的值)#\\n        字符串名.replace(空格,空)#清除空格\\n        字符串名.replace(清除的值,空) #去掉这个字符串里面这个字符串名的所有值\\n        字符串名.replace(替换的值,取代的值，替换的次数)\\n    ~改：\\n        字符串名.upper()#把字符串的字母大写\\n        字符串名.lower()#把所有字母小写\\n        字符串名.capitalize()#把首字母大写\\n        字符串名.strip()#去掉左右的空格\\n        字符串名.lstrip()#去掉左的空格\\n        字符串名.rstrip()#去掉右的空格\\n        字符串名.title()#把单词的首字母大写\\n        字符串名.split()#以字符串进行切隔，切割后变为列表\\n    ~查：\\n        字符串名.find(检索的值,起点下标)#检索内容，得到下标 *若果没有搜索到的话，返回-1\\n        字符串名.isdigit()#判断是否为数字，返回bool值\\n        字符串名.isalpha()#判断是否为字符串，返回bool值\\n        字符串名.isupper()#判断是都为大写\\n        字符串名.islower()#判断是都为小写\\n        字符串名.startswith(制定名)#判断尾字符串与指定字符串是否相等\\n        字符串名.endswith()#判断名是否存在\\n补充：\\n    ~数据类型的互相转换：\\n        变量名 = 数据类型(原变量)\\n    ~序列类型的互相转换：\\n        变量名 = 序列类型(原变量)\\n'"
      ]
     },
     "execution_count": 24,
     "metadata": {},
     "output_type": "execute_result"
    }
   ],
   "source": [
    "#--------笔记！！！！\n",
    "'''\n",
    "字符串方法：\n",
    "    ~增：\n",
    "    ~删：\n",
    "        字符串名.replace(要取代的名,替代的值)#\n",
    "        字符串名.replace(空格,空)#清除空格\n",
    "        字符串名.replace(清除的值,空) #去掉这个字符串里面这个字符串名的所有值\n",
    "        字符串名.replace(替换的值,取代的值，替换的次数)\n",
    "    ~改：\n",
    "        字符串名.upper()#把字符串的字母大写\n",
    "        字符串名.lower()#把所有字母小写\n",
    "        字符串名.capitalize()#把首字母大写\n",
    "        字符串名.strip()#去掉左右的空格\n",
    "        字符串名.lstrip()#去掉左的空格\n",
    "        字符串名.rstrip()#去掉右的空格\n",
    "        字符串名.title()#把单词的首字母大写\n",
    "        字符串名.split()#以字符串进行切隔，切割后变为列表\n",
    "    ~查：\n",
    "        字符串名.find(检索的值,起点下标)#检索内容，得到下标 *若果没有搜索到的话，返回-1\n",
    "        字符串名.isdigit()#判断是否为数字，返回bool值\n",
    "        字符串名.isalpha()#判断是否为字符串，返回bool值\n",
    "        字符串名.isupper()#判断是都为大写\n",
    "        字符串名.islower()#判断是都为小写\n",
    "        字符串名.startswith(制定名)#判断尾字符串与指定字符串是否相等\n",
    "        字符串名.endswith()#判断名是否存在\n",
    "补充：\n",
    "    ~数据类型的互相转换：\n",
    "        变量名 = 数据类型(原变量)\n",
    "    ~序列类型的互相转换：\n",
    "        变量名 = 序列类型(原变量)\n",
    "'''"
   ]
  },
  {
   "cell_type": "code",
   "execution_count": 1,
   "id": "62fec517",
   "metadata": {},
   "outputs": [
    {
     "name": "stdout",
     "output_type": "stream",
     "text": [
      "   a ds dsds Fsdds   \n",
      "   a bs bsbs Fsbbs   \n",
      "adsdsdsFsdds\n",
      "   a d我 d我ds Fsdds   \n",
      "   A DS DSDS FSDDS   \n",
      "   a ds dsds fsdds   \n",
      "['a', 'ds', 'dsds', 'Fsdds']\n",
      "a ds dsds Fsdds   \n",
      "   a ds dsds Fsdds\n",
      "Name\n",
      "['na', 'e']\n",
      "2\n",
      "False\n",
      "True\n",
      "False\n",
      "True\n",
      "True\n",
      "True\n"
     ]
    }
   ],
   "source": [
    "#实验\n",
    "a = '   a ds dsds Fsdds   '\n",
    "print(a)\n",
    "print(a.replace('d','b')) #将字符串a中 的d值转换为b\n",
    "print(a.replace(' ','')) #将字符串a中 的空格值删除\n",
    "print(a.replace('s','我',2))#将字符串a中 的s值更改为我，两次\n",
    "\n",
    "print(a.upper()) #将a字符串中字母变成大写\n",
    "print(a.lower()) #将a字符串中字母变成大写\n",
    "print(a.split()) #将a字符串去掉空格\n",
    "print(a.lstrip())#将a字符串去掉左空格\n",
    "print(a.rstrip()) #将a字符串去掉右空格\n",
    "a = 'name'\n",
    "print(a.title())#将a字符串单词首字母大写\n",
    "print(a.split('m'))#将a字符串从m值开始分割成列表\n",
    "\n",
    "print(a.find('m'))#查询a字符串中m的下标\n",
    "print(a.isdigit())#判断是否为数字\n",
    "print(a.isalpha())#断是否为字符串\n",
    "print(a.isupper())#判断是否为大写\n",
    "print(a.islower())#判断是否为小写\n",
    "print(a.startswith('n'))#判断是否存在\n",
    "print(a.endswith(a))#判断是否存在"
   ]
  },
  {
   "cell_type": "code",
   "execution_count": null,
   "id": "8b14b1f1",
   "metadata": {},
   "outputs": [],
   "source": []
  }
 ],
 "metadata": {
  "kernelspec": {
   "display_name": "Python 3 (ipykernel)",
   "language": "python",
   "name": "python3"
  },
  "language_info": {
   "codemirror_mode": {
    "name": "ipython",
    "version": 3
   },
   "file_extension": ".py",
   "mimetype": "text/x-python",
   "name": "python",
   "nbconvert_exporter": "python",
   "pygments_lexer": "ipython3",
   "version": "3.9.7"
  }
 },
 "nbformat": 4,
 "nbformat_minor": 5
}
