{
 "cells": [
  {
   "cell_type": "code",
   "execution_count": 1,
   "id": "757631af",
   "metadata": {},
   "outputs": [
    {
     "data": {
      "text/plain": [
       "'\\n项目名称：\\n项目说明：\\n项目环境：python 3.9.7\\n作者所属：马梓轩\\n'"
      ]
     },
     "execution_count": 1,
     "metadata": {},
     "output_type": "execute_result"
    }
   ],
   "source": [
    "'''\n",
    "项目名称：\n",
    "项目说明：\n",
    "项目环境：python 3.9.7\n",
    "作者所属：马梓轩\n",
    "'''\n",
    "'''\n",
    "三目运算法\n",
    "    True if 条件 False\n",
    "函数对象：\n",
    "    ~函数可以作为数据被引用。\n",
    "    ~函数可以作为容器类型的元素。\n",
    "    ~函数可以作为参数，传输给另外一个函数\n",
    "    ~函数参数是一个返回值\n",
    "\n",
    "名称空间与作用域：\n",
    "    变量名，函数名\n",
    "    专门又来存储名字的地方\n",
    "    ~栈：变量名，函数名\n",
    "    ~堆：变量值，函数值\n",
    "    \n",
    "    种类：\n",
    "        内建名称：\n",
    "            随着python启动而产生，在关闭时就回收。\n",
    "            它是最先被夹在的名称空间，用来存放一些内置的名字，也就是内置函数。\n",
    "        全局名称空间：\n",
    "            随着python启动而产生，执行完后。\n",
    "            它是第二个被加载名称的空间，文件执行后产生的名字，不是内置的，也\n",
    "            python程序运行开始，结束销毁。\n",
    "        局部作用空间：\n",
    "            它是随着函数的调用/结束而临时产生/回收的名字.函数的新参，函数定义的名字都是放在这里\n",
    "            函数名称\n",
    "                函数行参\n",
    "            调用时存活，结束时销毁\n",
    "作用域：\n",
    "    ~全局作用域：整个空间都可以使用（内置名称空间，全局名称空间）\n",
    "    局部作用域：局部程序可以使用。\n",
    "        局部空间名称\n",
    "    定义域：定义域相当于开辟了一个新的地盘,来执行操作,里面的东西,未经许可,外人不可调用\n",
    "    作用域：地盘内的东西，作用范围（使用全局用前需要调用函数）\n",
    "    \n",
    "匿名函数\n",
    "'''"
   ]
  },
  {
   "cell_type": "code",
   "execution_count": 55,
   "id": "67f07d7f",
   "metadata": {},
   "outputs": [
    {
     "name": "stdout",
     "output_type": "stream",
     "text": [
      "是的\n",
      "hello,world\n",
      "None\n",
      "你好，mazixuan\n",
      "None\n",
      "(1, 2, 3, 4, 5)\n",
      "None\n",
      "11\n",
      "<function add at 0x110678b80>\n",
      "[<function add at 0x110678b80>, <function long at 0x110678d30>, <function hello at 0x102c9de50>]\n",
      "20\n",
      "3\n",
      "<function add1 at 0x110678430>\n",
      "1236788\n"
     ]
    }
   ],
   "source": [
    "\n",
    "name = '马梓轩'\n",
    "print('是的') if name == '马梓轩' else print('你不是')\n",
    "\n",
    "#不带参数\n",
    "def hello():\n",
    "    print('hello,world')\n",
    "print(hello())\n",
    "#带参数\n",
    "def hello1(name):\n",
    "    print(f'你好，{name}')\n",
    "print(hello1('mazixuan'))\n",
    "\n",
    "#不定长参数\n",
    "def long(*l):\n",
    "    print(l)\n",
    "print(long(1,2,3,4,5))\n",
    "\n",
    "\n",
    "def add(a,b):\n",
    "    return a+b\n",
    "sum = add(5,6)\n",
    "print(sum)\n",
    "sum = add\n",
    "print(sum) #输出add这个函数所在的内存地址\n",
    "\n",
    "#存入列表和字典\n",
    "lst = [add,long,hello]\n",
    "print(lst)\n",
    "print(lst[0](10,10))\n",
    "dic = {1:add,2:long,3:hello}\n",
    "print(dic[1](1,2))\n",
    "\n",
    "\n",
    "def add1(add):\n",
    "    return add1\n",
    "print(add1(1))\n",
    "\n",
    "\n",
    "#作用域\n",
    "def fun():\n",
    "    global a #全局可以引用\n",
    "    a = 1236788\n",
    "fun()\n",
    "print(a)\n",
    "\n",
    "def fun1():\n",
    "    b = 2\n",
    "    def fun2():\n",
    "        nonlocal b\n",
    "        b = 3\n",
    "    fun2()\n",
    "    print(b)\n",
    "    \n",
    "\n"
   ]
  },
  {
   "cell_type": "code",
   "execution_count": null,
   "id": "55f8585e",
   "metadata": {},
   "outputs": [],
   "source": []
  }
 ],
 "metadata": {
  "kernelspec": {
   "display_name": "Python 3 (ipykernel)",
   "language": "python",
   "name": "python3"
  },
  "language_info": {
   "codemirror_mode": {
    "name": "ipython",
    "version": 3
   },
   "file_extension": ".py",
   "mimetype": "text/x-python",
   "name": "python",
   "nbconvert_exporter": "python",
   "pygments_lexer": "ipython3",
   "version": "3.9.7"
  }
 },
 "nbformat": 4,
 "nbformat_minor": 5
}
