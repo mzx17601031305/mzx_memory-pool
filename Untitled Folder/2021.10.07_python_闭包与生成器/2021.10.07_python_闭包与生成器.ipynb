{
 "cells": [
  {
   "cell_type": "code",
   "execution_count": 1,
   "id": "ccb8faa4",
   "metadata": {},
   "outputs": [
    {
     "data": {
      "text/plain": [
       "'\\n项目名称：\\n项目说明：\\n项目环境：python 3.9.7\\n作者所属：马梓轩\\n'"
      ]
     },
     "execution_count": 1,
     "metadata": {},
     "output_type": "execute_result"
    }
   ],
   "source": [
    "'''\n",
    "项目名称：2021.10.07_python_闭包与生成器\n",
    "项目说明：2021.10.07_python_闭包与生成器\n",
    "项目环境：python 3.9.7\n",
    "作者所属：马梓轩\n",
    "'''"
   ]
  },
  {
   "cell_type": "code",
   "execution_count": 2,
   "id": "f30d7e9e",
   "metadata": {},
   "outputs": [
    {
     "data": {
      "text/plain": [
       "'\\n笔记\\n\\n\\n闭包函数：\\n    ~函数对象：把函数当成一个正常数据，如变量。\\n    ~函数嵌套：在全局函数中嵌套局部函数，比如函数定义里的函数函数定义\\n    ~作用域：\\n    ~基本用法：\\n        6\\n'"
      ]
     },
     "execution_count": 2,
     "metadata": {},
     "output_type": "execute_result"
    }
   ],
   "source": [
    "'''\n",
    "笔记\n",
    "\n",
    "\n",
    "闭包函数：\n",
    "    ~函数对象：把函数当成一个正常数据，如变量。\n",
    "    ~函数嵌套：在全局函数中嵌套局部函数，比如函数定义里的函数函数定义\n",
    "    ~作用域：\n",
    "    ~基本用法：\n",
    "        def 函数名1（）：\n",
    "            def 函数名2 ：\n",
    "            return 函数名2\n",
    "    #<function __main__.num1.<locals>.num2()>  #locals 局部\n",
    "    ~作用：在源代码不变的前提下及不更改调用方式，添加功能\n",
    "    ~开发潜规则：\n",
    "        代码拓展：具有开放性，可以加功能\n",
    "        源码修改：不能随意修改\n",
    "'''"
   ]
  },
  {
   "cell_type": "code",
   "execution_count": 3,
   "id": "410a3755",
   "metadata": {},
   "outputs": [
    {
     "name": "stdout",
     "output_type": "stream",
     "text": [
      "aaa\n",
      "-2.0050909519195557\n"
     ]
    }
   ],
   "source": [
    "'''\n",
    "def num1():\n",
    "    a = 123\n",
    "    def num2() :\n",
    "        print(a)\n",
    "    return num2\n",
    "num1()\n",
    "'''\n",
    "import time\n",
    "\n",
    "def time1(fun):\n",
    "    def timer():\n",
    "        strat_time = time.time()\n",
    "        fun()\n",
    "        stop_time =time.time()\n",
    "        print(strat_time-stop_time)\n",
    "    return timer\n",
    "@time1\n",
    "def test1():\n",
    "    time.sleep(2)\n",
    "    print('aaa')\n",
    "test1()"
   ]
  },
  {
   "cell_type": "code",
   "execution_count": null,
   "id": "6e67dcb2",
   "metadata": {},
   "outputs": [],
   "source": [
    "import time\n",
    "\n",
    "def time1(fun):\n",
    "    def timer():\n",
    "        strat_time = time.time()\n",
    "        fun()\n",
    "        stop_time =time.time()\n",
    "        print(strat_time-stop_time)\n",
    "    return timer\n",
    "@time1\n",
    "def test1():\n",
    "    time.sleep(2)\n",
    "    print('aaa')\n",
    "test1()"
   ]
  },
  {
   "cell_type": "code",
   "execution_count": 4,
   "id": "3dbebdcd",
   "metadata": {},
   "outputs": [
    {
     "name": "stdout",
     "output_type": "stream",
     "text": [
      "123\n",
      "-2.0008320808410645\n"
     ]
    }
   ],
   "source": [
    "import time\n",
    "def time1(fun):\n",
    "    def timer(num):\n",
    "        strat_time = time.time()\n",
    "        fun(num)\n",
    "        stop_time =time.time()\n",
    "        print(strat_time-stop_time)\n",
    "    return timer\n",
    "@time1\n",
    "def test1(num):\n",
    "    time.sleep(2)\n",
    "    print(num)\n",
    "test1(123)"
   ]
  },
  {
   "cell_type": "code",
   "execution_count": null,
   "id": "0cd022b9",
   "metadata": {},
   "outputs": [],
   "source": []
  }
 ],
 "metadata": {
  "kernelspec": {
   "display_name": "Python 3 (ipykernel)",
   "language": "python",
   "name": "python3"
  },
  "language_info": {
   "codemirror_mode": {
    "name": "ipython",
    "version": 3
   },
   "file_extension": ".py",
   "mimetype": "text/x-python",
   "name": "python",
   "nbconvert_exporter": "python",
   "pygments_lexer": "ipython3",
   "version": "3.9.7"
  }
 },
 "nbformat": 4,
 "nbformat_minor": 5
}