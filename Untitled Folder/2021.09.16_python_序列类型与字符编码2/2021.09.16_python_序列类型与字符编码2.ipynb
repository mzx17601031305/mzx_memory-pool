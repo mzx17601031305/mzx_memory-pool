{
 "cells": [
  {
   "cell_type": "code",
   "execution_count": 1,
   "id": "9a5d00dd",
   "metadata": {},
   "outputs": [
    {
     "data": {
      "text/plain": [
       "'\\n-------笔记-------\\n数据类型：\\n    int：整型（整数）\\n    folat：浮点型（小数）\\n    bool：布尔类型（True、False）\\n    str：字符串（‘’，‘’‘’，‘’‘’‘’  字符串数据）\\n    list：列表（可以存储不同的数据类型）\\n    tuple：元组（可以存储不同的数据类型，不可以更改）\\n    \\n'"
      ]
     },
     "execution_count": 1,
     "metadata": {},
     "output_type": "execute_result"
    }
   ],
   "source": [
    "'''\n",
    "-------笔记-------\n",
    "数据类型：\n",
    "    int：整型（整数）\n",
    "    folat：浮点型（小数）\n",
    "    bool：布尔类型（True、False）\n",
    "    str：字符串（‘’，‘’‘’，‘’‘’‘’  字符串数据）\n",
    "    list：列表（可以存储不同的数据类型） *使用中括号[]\n",
    "    tuple：元组（可以存储不同的数据类型，不可以更改） *使用小括号()\n",
    "注释方式：\n",
    "    ~单行注释：#\n",
    "    ~块级注释：''' '''\n",
    "    \n",
    "单词扩展：\n",
    "    type()获取数据的内容，print()输出，input()输入\n",
    "变量名命名规则：\n",
    "    https://blog.csdn.net/qq_37851620/article/details/94731227 #参考地址\n",
    "\n",
    "\n",
    "------------------以上是复习---------------------\n",
    "\n",
    "列表使用的方法：\n",
    "    ~增:在列表里增加元素\n",
    "        使用方式:\n",
    "            列表名.append(元素) #在列表最后添加元素\n",
    "            列表名.insert(下标,元素) #在指定位置添加元素\n",
    "            列表名.extend(列表) #在把列表里的数据添加到lis列表最后，实际为追加另一个表中的多个值\n",
    "\n",
    "    ~删:在列表里删除元素\n",
    "            列表名.pop(下标值) #通过下标删除一个元素，默认删除最后\n",
    "            列表名.remove(元素名称) #通过元素名称删除一个元素，多个相同的元素名称删除最小下标的元素\n",
    "            列表名.clear() #清空列表里所有的数据\n",
    "            del 列表名 #删除列表  *也可以删除赋值或者制定数据\n",
    "\n",
    "    ~改:在列表里通过下标修改元素\n",
    "            列表名[下标] = 元素 #通过下标修改列表中一个元素(可以通过切片)\n",
    "    ~查:在列表里通过下标查找元素\n",
    "            列表名.index（元素名称） #检索表格里的元素\n",
    "            列表名.index（元素名称,下标） #检索表格里的元素,下标之后的！\n",
    "            列表名.count（元素名称） #查询元素的数据量\n",
    "    ~其他：\n",
    "            新列表名 = 旧列表名.copy() #拷贝整个列表\n",
    "            列表名.sort() #将列表排序\n",
    "            列表名.sort(reverse=True) #将列表倒序\n",
    "            列表名.reverse() #将列表反向输出\n",
    "元组使用方法：\n",
    "    ~查：\n",
    "            元组.index（元素名称） #检索元组里的元素\n",
    "            元组.count（元素名称） #查询元素的数据量\n",
    "            \n",
    "ASCII(字符编码)：\n",
    "    只有基本的英文，数字，特殊字符\n",
    "UTF-8(万国码):\n",
    "    大部分国家语言文字整合\n",
    "    \n",
    "字符串名.encode(编码格式) #输出二进制字符串\n",
    "'''"
   ]
  },
  {
   "cell_type": "code",
   "execution_count": 1,
   "id": "b995cf8c",
   "metadata": {},
   "outputs": [
    {
     "name": "stdout",
     "output_type": "stream",
     "text": [
      "<class 'str'>\n",
      "<class 'float'>\n",
      "<class 'bool'>\n",
      "False\n",
      "<class 'int'>\n",
      "1\n",
      "123.12\n",
      "0\n",
      "4\n",
      "['b', False, 1, 70, 12, 23, 45, 22, 'a', 'a', 'a']\n",
      "['b', 'b', 'b', 1, 70, 12, 23, 45, 22, 'a', 'a', 'a'] 4363731392\n",
      "['b', 'b', 'b', 1, 70, 12, 23, 45, 22, 'a', 'a', 'a'] 4363088320\n",
      "[3, 3, 12, 34, 45, 67, 2222]\n",
      "[2222, 67, 45, 34, 12, 3, 3]\n",
      "[2222, 67, 45, 34, 12, 3, 3]\n",
      "3\n",
      "1\n",
      "b'\\xe9\\xa9\\xac\\xe6\\xa2\\x93\\xe8\\xbd\\xa9'\n",
      "b'\\xc2\\xed\\xe8\\xf7\\xd0\\xf9'\n"
     ]
    }
   ],
   "source": [
    "#实验\n",
    "lis = ['a',123.12,False,1] #定义列表\n",
    "for i in lis : #循环语句，i 在 lis中循环\n",
    "    print(type(i))\n",
    "    if isinstance(i,int): #判断语句\n",
    "        print(i)\n",
    "#行注释\n",
    "'''\n",
    "块级注释\n",
    "'''\n",
    "import random #引用random模块\n",
    "random.randint(0,7)#随机输出0-7中一个数字\n",
    "\n",
    "lis = ['a',123.12,False,1] #定义个列表\n",
    "print(lis[1])\n",
    "lst = [12,23,45,22,'a','a','a']\n",
    "lis.append(70) #在最后添加元素\n",
    "lis.insert(1,'wo') #在制定位置添加元素\n",
    "lis.extend(lst) #追加另一个表中的多个值\n",
    "lis.pop(1)#删除下标2的元素\n",
    "lis.remove(123.12)#删除名称为123.12的元素\n",
    "#lis.clear() #清除列表里所有的数据\n",
    "#del(lis)\n",
    "print(lis.index('a'))#检索‘a’的下标\n",
    "print(lis.count('a'))#搜索元素名为‘a’的数量\n",
    "lis[0] = 'b' #修改0下标的值为‘b’\n",
    "print(list(lis))\n",
    "lis[0:2] = 'b','b','b'#修改0-2下标的值为‘b’\n",
    "print(list(lis),id(lis))\n",
    "\n",
    "nli = lis.copy() #拷贝列表lis为新列表nli\n",
    "print(list(nli),id(nli))\n",
    "lst_1 = [12,3,45,67,2222,34,3]\n",
    "lst_1.sort() #排序\n",
    "print(list(lst_1))\n",
    "lst_1.sort(reverse=True) #排序(倒序)\n",
    "print(list(lst_1))\n",
    "nli.reverse()#反向输出\n",
    "print(list(lst_1))\n",
    "\n",
    "tup = (1,2,12.23,'wo') #定义个元素\n",
    "print(tup.index('wo')) #检索‘wo’的下标\n",
    "print(tup.count('wo')) #搜索元素名为‘wo’的数量\n",
    "\n",
    "name = '马梓轩'\n",
    "print(name.encode()) #默认UTF-8\n",
    "print(name.encode(encoding='GBK'))"
   ]
  },
  {
   "cell_type": "code",
   "execution_count": 84,
   "id": "17623bf5",
   "metadata": {},
   "outputs": [
    {
     "name": "stdout",
     "output_type": "stream",
     "text": [
      "\n",
      " 39532 \n",
      " 26771 \n",
      " 36713 \n",
      "\n",
      "[39532, 26771, 36713]\n",
      "39533 <class 'str'>\n",
      "['39533']\n",
      "26772 <class 'str'>\n",
      "['39533', '26772']\n",
      "36714 <class 'str'>\n",
      "['39533', '26772', '36714']\n",
      "395332677236714\n",
      "\n",
      " 39533 \n",
      " 26772 \n",
      " 36714 \n",
      "\n",
      "39533 <class 'str'>\n",
      "马\n",
      "26772 <class 'str'>\n",
      "梓\n",
      "36714 <class 'str'>\n",
      "轩\n"
     ]
    }
   ],
   "source": [
    "#----作业------\n",
    "name_1 = ord('马')\n",
    "name_2 = ord('梓')\n",
    "name_3 = ord('轩')\n",
    "lst = []\n",
    "print('\\n',name_1,'\\n',name_2,'\\n',name_3,'\\n')\n",
    "\n",
    "lis = [name_1,name_2,name_3]\n",
    "print(list(lis))\n",
    "\n",
    "for num in lis:\n",
    "    num += 1\n",
    "    num = str(num)\n",
    "    print (num,type(num))\n",
    "    lst.append(num)\n",
    "    print(list(lst))\n",
    "    \n",
    "    \n",
    "data = ''.join(lst)\n",
    "print(data)\n",
    "\n",
    "name_1_1 = data[0:5]\n",
    "name_2_1 = data[5:10]\n",
    "name_3_1 = data[10:]\n",
    "print('\\n',name_1_1,'\\n',name_2_1,'\\n',name_3_1,'\\n')\n",
    "\n",
    "lis_1 = [name_1_1,name_2_1,name_3_1]\n",
    "\n",
    "for num1 in lis_1:\n",
    "    print(num1,type(num1))\n",
    "    num1 = int(num1)\n",
    "    num1 = num1 - 1\n",
    "    print(chr(num1))\n",
    "    \n",
    "   "
   ]
  },
  {
   "cell_type": "code",
   "execution_count": 24,
   "id": "0446bca4",
   "metadata": {},
   "outputs": [
    {
     "name": "stdout",
     "output_type": "stream",
     "text": [
      "1\n"
     ]
    }
   ],
   "source": [
    "tup = (1,2,12.23,'wo') #定义个元素\n",
    "print(tup.count('wo')) #搜索元素名为‘wo’的数量\n"
   ]
  },
  {
   "cell_type": "code",
   "execution_count": null,
   "id": "94427f73",
   "metadata": {},
   "outputs": [],
   "source": []
  }
 ],
 "metadata": {
  "kernelspec": {
   "display_name": "Python 3 (ipykernel)",
   "language": "python",
   "name": "python3"
  },
  "language_info": {
   "codemirror_mode": {
    "name": "ipython",
    "version": 3
   },
   "file_extension": ".py",
   "mimetype": "text/x-python",
   "name": "python",
   "nbconvert_exporter": "python",
   "pygments_lexer": "ipython3",
   "version": "3.9.7"
  }
 },
 "nbformat": 4,
 "nbformat_minor": 5
}
