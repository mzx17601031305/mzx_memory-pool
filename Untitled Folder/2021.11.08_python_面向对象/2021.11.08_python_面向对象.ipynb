{
 "cells": [
  {
   "cell_type": "code",
   "execution_count": 1,
   "id": "18573d05",
   "metadata": {},
   "outputs": [
    {
     "data": {
      "text/plain": [
       "'\\n2021.11.08_python_面向对象\\n'"
      ]
     },
     "execution_count": 1,
     "metadata": {},
     "output_type": "execute_result"
    }
   ],
   "source": [
    "'''\n",
    "2021.11.08_python_面向对象\n",
    "\n",
    "\n",
    "面向对象：\n",
    "    定义：是一个编程范式，写程序时候的思路\n",
    "'''"
   ]
  },
  {
   "cell_type": "code",
   "execution_count": null,
   "id": "1453951c",
   "metadata": {},
   "outputs": [],
   "source": []
  },
  {
   "cell_type": "code",
   "execution_count": null,
   "id": "b5c60893",
   "metadata": {},
   "outputs": [],
   "source": [
    "#作业\n",
    "\n",
    "#1.写一个学生类，产生一堆学生：有一个计数器（属性），统计总共实例化了多少个对象\n",
    "class Student(object):\n",
    "    count = 0\n",
    "    def __init__(self,name,age,gender,school):\n",
    "        self.name = name\n",
    "        self.age = age\n",
    "        self.gender = gender\n",
    "        self.gender = gender\n",
    "        self.school = school\n",
    "        Student.count += 1\n",
    "\n",
    "    def attend_class(self):\n",
    "        print('上课')\n",
    "\n",
    "    def motion(self):\n",
    "        print('运动')\n",
    "\n",
    "    def love(self):\n",
    "        print('谈恋爱')\n",
    "\n",
    "student_mzx = Student('马梓轩',24,'男','东北农业大学')\n",
    "student_sbj = Student('撒贝宁',45,'男','北京大学')\n",
    "student_z3 = Student('张3',26,'男','香港大学')\n",
    "\n",
    "print(Student.count)\n",
    "\n",
    "#2.简述类和对象的关系\n",
    "'''\n",
    "    类就像一个范围，而对象处于类这个范围之内。\n",
    "    对象的特征就是类属性，对象的行为就是类方法。\n",
    "'''\n",
    "\n",
    "# 3.self是什么？\n",
    "'''\n",
    "    在类中的一个特定参数，他可以成为任何需要的参数。\n",
    "    举个例子：\n",
    "       你要搭建一个房子，如果类是构建房子的图纸，那么实例后的对象的就是搭建完的房子，但是房子的图纸是一样的，那建造的房子也是一样的，\n",
    "       这个时候self就是将一样的房子中加入或改变新的特征（参数），使其变成自己房子。\n",
    "'''\n",
    "\n",
    "# 4.看代码写结果\n",
    "'''\n",
    "class Foo:\n",
    "    a1 = 1\n",
    "\n",
    "    def __init__(self, num):\n",
    "        self.num = num\n",
    "\n",
    "    def show_data(self):\n",
    "        print(self.num + self.a1)\n",
    "\n",
    "\n",
    "obj1 = Foo(666)\n",
    "obj2 = Foo(999)\n",
    "\n",
    "print(obj1.num)\n",
    "print(obj1.a1)\n",
    "\n",
    "obj1.num = 18\n",
    "obj1.a1 = 99\n",
    "\n",
    "print(obj1.num)\n",
    "print(obj1.a1)\n",
    "\n",
    "print(obj2.a1)\n",
    "print(obj2.num)\n",
    "print(obj2.num)\n",
    "print(Foo.a1)\n",
    "print(obj1.a1)\n",
    "\n",
    "\n",
    "结果：\n",
    "666  #obj1 = Foo(666)\n",
    "1  #a1 = 1\n",
    "18 #obj1.num = 18\n",
    "99 #obj1.a1 = 99\n",
    "1 #a1 = 1 因为 obj2未对a1的赋值进行更改\n",
    "999 #obj2 = Foo(999)\n",
    "999 #obj2 = Foo(999)\n",
    "1 #a1 = 1 因为Foo类中a1的赋值进行更改\n",
    "99 #obj1.a1 = 99\n",
    "'''\n",
    "\n",
    "\n",
    "    "
   ]
  }
 ],
 "metadata": {
  "kernelspec": {
   "display_name": "Python 3 (ipykernel)",
   "language": "python",
   "name": "python3"
  },
  "language_info": {
   "codemirror_mode": {
    "name": "ipython",
    "version": 3
   },
   "file_extension": ".py",
   "mimetype": "text/x-python",
   "name": "python",
   "nbconvert_exporter": "python",
   "pygments_lexer": "ipython3",
   "version": "3.9.7"
  }
 },
 "nbformat": 4,
 "nbformat_minor": 5
}
