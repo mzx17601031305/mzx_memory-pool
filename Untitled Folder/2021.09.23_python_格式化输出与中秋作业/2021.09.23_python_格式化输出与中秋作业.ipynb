{
 "cells": [
  {
   "cell_type": "code",
   "execution_count": 1,
   "id": "6cd66de8",
   "metadata": {},
   "outputs": [
    {
     "data": {
      "text/plain": [
       "'\\n格式化输出作用：\\n    ~更好的方便输出\\n    ~保留未知的参数\\n    \\n    \\nimport 模块名 as 小名   #import win32gui as gui\\n\\n\\n\\n'"
      ]
     },
     "execution_count": 1,
     "metadata": {},
     "output_type": "execute_result"
    }
   ],
   "source": [
    "'''\n",
    "项目名称：格式化输出与中秋作业\n",
    "项目描述：2021.09.23_python_格式化输出与中秋作业\n",
    "项目环境：python 3.9.7\n",
    "作者所属：马梓轩\n",
    "'''\n",
    "'''\n",
    "格式化输出作用：\n",
    "    ~更好的方便输出\n",
    "    ~保留未知的参数\n",
    "    \n",
    "    \n",
    "import 模块名 as 小名   #import win32gui as gui\n",
    "\n",
    "\n",
    "\n",
    "'''"
   ]
  },
  {
   "cell_type": "code",
   "execution_count": null,
   "id": "d28b584c",
   "metadata": {},
   "outputs": [],
   "source": [
    "import win32gui as gui #windos开发\n",
    "import win32con as con #windos窗口\n",
    "\n",
    "\n"
   ]
  }
 ],
 "metadata": {
  "kernelspec": {
   "display_name": "Python 3 (ipykernel)",
   "language": "python",
   "name": "python3"
  },
  "language_info": {
   "codemirror_mode": {
    "name": "ipython",
    "version": 3
   },
   "file_extension": ".py",
   "mimetype": "text/x-python",
   "name": "python",
   "nbconvert_exporter": "python",
   "pygments_lexer": "ipython3",
   "version": "3.9.7"
  }
 },
 "nbformat": 4,
 "nbformat_minor": 5
}
