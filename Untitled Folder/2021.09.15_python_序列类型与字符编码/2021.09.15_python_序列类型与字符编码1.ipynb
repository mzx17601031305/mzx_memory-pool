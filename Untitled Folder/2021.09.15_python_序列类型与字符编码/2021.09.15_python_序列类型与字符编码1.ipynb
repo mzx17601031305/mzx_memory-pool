{
 "cells": [
  {
   "cell_type": "code",
   "execution_count": 1,
   "id": "4aba81b2",
   "metadata": {},
   "outputs": [
    {
     "data": {
      "text/plain": [
       "'\\n序列类型_：索引、切片、下标、步长\\n    ~下标 = 数据的位置\\n    ~索引 = 通过位置找数据的过程\\n    ~切片 = 把一长串数据,拆分/切割一块下来\\n    ~步长 = 定义提取数据之间，跨越几位下标\\n列表和元组：\\n    *int、bool、float、str都为单一类型，只能唯一\\n    列表（list）：数据的集合，可以存放不同的单一类型数据。类型为list\\n        ps：对数据的操作可以定义为增删改查（最底层的数据）\\n        定义方式： 命名 = [值1，值2，...]\\n    元组（tuple）：用小括号包裹的数据，其中数据不准许修改。类型为tuple\\n转移字符：\\n    \\n'"
      ]
     },
     "execution_count": 1,
     "metadata": {},
     "output_type": "execute_result"
    }
   ],
   "source": [
    "'''\n",
    "序列类型_：索引、切片、下标、步长\n",
    "    ~下标 = 数据的位置\n",
    "    ~索引 = 通过位置找数据的过程\n",
    "    ~切片 = 把一长串数据,拆分/切割一块下来\n",
    "    ~步长 = 定义提取数据之间，跨越几位下标\n",
    "列表和元组：\n",
    "    *int、bool、float、str都为单一类型，只能唯一\n",
    "    列表（list）：数据的集合，可以存放不同的单一类型数据。类型为list\n",
    "        ps：对数据的操作可以定义为增删改查（最底层的数据）\n",
    "        定义方式： 命名 = [值1，值2，...]\n",
    "    元组（tuple）：用小括号包裹的数据，其中数据不准许修改。类型为tuple\n",
    "        定义方式： 命名 =（值1，值2，...）\n",
    "        ps：当元组只有一个元素时也要加逗号，不然会默认单独数据的类型\n",
    "转移字符：具有特别含义的字符。\n",
    "    功能字符：\\n （换行）、 \\t（制表符tab）、\\\\（正常输出反斜杠）、\\“（输出引号）、\\r（回车）、\\t（系统提示音）\n",
    "    ps：print（r‘....’） 取消转义字符\n",
    "    \n",
    "    ps：ord（数据转换为ASCII）  chr（ASCII转换为数据 ）\n",
    "    \n",
    "'''"
   ]
  },
  {
   "cell_type": "code",
   "execution_count": 53,
   "id": "e342f4ec",
   "metadata": {},
   "outputs": [
    {
     "name": "stdout",
     "output_type": "stream",
     "text": [
      "4442164224\n",
      "['hello world', 1, 12.13, True]\n",
      "<class 'int'>\n",
      "<class 'list'>\n",
      "<class 'tuple'>\n",
      "1234\n",
      "<class 'list'>\n",
      "hello\n",
      "world\n",
      "hello\tworld\n",
      "hello\\tworld\n",
      "\"hellotworld\"\"\n",
      "hello\r",
      "world\n",
      "49\n",
      "1\n"
     ]
    }
   ],
   "source": [
    "#实验\n",
    "\n",
    "num = '123456789'  #定义字符串\n",
    "num[::2] # 默认为0:默认无限（到无数据为止）:步长为2（提取从起始位置到终止位置每跨两个下标的数据）\n",
    "\n",
    "lst = list(['hello world',1,12.13,True]) #定义一个列表\n",
    "print(id(lst))#列表ID\n",
    "print(list(lst))\n",
    "print(type(lst[1]))#查询列表里下表为1的数据的类型\n",
    "print(type(lst))\n",
    "\n",
    "tup = (123,1234,'a')#定义一个元组\n",
    "print(type(tup))#查看类型\n",
    "print(tup[1]) #查询元组里下表为1的数据的类型\n",
    "\n",
    "lis = [1,('a',12,12)] #定义一个列表包括元组\n",
    "print(type(lis))#查看类型\n",
    "\n",
    "print('hello\\nworld')#转义字符 \\n换行\n",
    "print('hello\\tworld')#转义字符 \\t制表符\n",
    "print('hello\\\\tworld')#转义字符 \\\\ 反斜杠\n",
    "print('\\\"hellotworld\\\"\"')#转义字符 \\\" 输出引号\n",
    "print('hello\\rworld')#转义字符 \\r 回车\n",
    "\n",
    "print(ord('1')) #ord（数据转换为ASCII）\n",
    "print(chr(49)) #chr（ASCII转换为数据 ）\n"
   ]
  },
  {
   "cell_type": "code",
   "execution_count": 54,
   "id": "e607b902",
   "metadata": {},
   "outputs": [
    {
     "name": "stdout",
     "output_type": "stream",
     "text": [
      "1\n",
      "1\n",
      "1\n",
      "['大', '家', '很', '帅']\n",
      "['大', '家', '很', '棒']\n",
      "大家很棒 <class 'str'>\n",
      "大家很棒 <class 'str'>\n"
     ]
    }
   ],
   "source": [
    "#---------------------作业！！！！！\n",
    "#------作业1---------\n",
    "lst = ['hello world',1,12.13,True]\n",
    "print(lst[1])\n",
    "print(lst[-3])\n",
    "\n",
    "lst = ['hello world',1,12.13]\n",
    "for i in lst:\n",
    "    if isinstance(i,int):\n",
    "        print(i)\n",
    "\n",
    "\n",
    "#------作业2-1---------\n",
    "data = '大家很帅'\n",
    "lis = list(data)\n",
    "print(list(data))\n",
    "lis[3] = '棒'\n",
    "print(list(lis))\n",
    "data=''.join(lis)\n",
    "print(data,type(data))\n",
    "#------作业2-2---------\n",
    "data_1 = '大家很帅'\n",
    "data_1 = data_1.replace('帅','棒')\n",
    "print(data_1,type(data_1))"
   ]
  },
  {
   "cell_type": "code",
   "execution_count": 5,
   "id": "35679da3",
   "metadata": {},
   "outputs": [
    {
     "name": "stdout",
     "output_type": "stream",
     "text": [
      "蜀山派 火星 170\n"
     ]
    }
   ],
   "source": [
    "Lst = [['麒麟',  18 , '广东韶关' , '177.5'],['王建永' , 20 , '蜀山派' , 180],['杨小雨' , 17 , '火星' , 170]]\n",
    "print(Lst[1][2],Lst[2][2],Lst[2][3])"
   ]
  },
  {
   "cell_type": "code",
   "execution_count": 68,
   "id": "0bef2140",
   "metadata": {},
   "outputs": [
    {
     "name": "stdout",
     "output_type": "stream",
     "text": [
      "请输入距离:1.2\n",
      "请输入金额100\n",
      "可惜可惜，您需要强加锻炼\n"
     ]
    }
   ],
   "source": [
    "while 1:\n",
    "    num = float(input('请输入距离:'))\n",
    "    money = float(input('请输入金额'))\n",
    "    if num > 2.5 :\n",
    "        print('恭喜您，您免单了')\n",
    "        break\n",
    "    elif 2.0 < num < 2.5 :\n",
    "        print('恭喜您7折,您需要花费：',money*0.7)\n",
    "        break\n",
    "    elif 1.5 < num < 2.0 :\n",
    "        print('恭喜您8折,您需要花费：',money*0.8)\n",
    "        break\n",
    "    elif  num < 1.5:\n",
    "        print('可惜可惜，您需要强加锻炼')\n",
    "        break\n",
    "    else:\n",
    "        print('输入有误，请重新输入')"
   ]
  },
  {
   "cell_type": "code",
   "execution_count": 72,
   "id": "3d089fa1",
   "metadata": {},
   "outputs": [
    {
     "name": "stdout",
     "output_type": "stream",
     "text": [
      "0\n",
      "1\n",
      "2\n",
      "3\n",
      "4\n",
      "5\n",
      "6\n",
      "7\n",
      "8\n",
      "9\n"
     ]
    }
   ],
   "source": [
    "for i in range(10):\n",
    "    print(i)"
   ]
  },
  {
   "cell_type": "code",
   "execution_count": 9,
   "id": "8ab2ee30",
   "metadata": {},
   "outputs": [
    {
     "name": "stdout",
     "output_type": "stream",
     "text": [
      "<class 'int'>\n",
      "<class 'tuple'>\n"
     ]
    }
   ],
   "source": [
    "num = (1)\n",
    "print(type(num))\n",
    "num = (1,)\n",
    "print(type(num))"
   ]
  },
  {
   "cell_type": "code",
   "execution_count": null,
   "id": "4048ff7d",
   "metadata": {},
   "outputs": [],
   "source": []
  }
 ],
 "metadata": {
  "kernelspec": {
   "display_name": "Python 3 (ipykernel)",
   "language": "python",
   "name": "python3"
  },
  "language_info": {
   "codemirror_mode": {
    "name": "ipython",
    "version": 3
   },
   "file_extension": ".py",
   "mimetype": "text/x-python",
   "name": "python",
   "nbconvert_exporter": "python",
   "pygments_lexer": "ipython3",
   "version": "3.9.7"
  }
 },
 "nbformat": 4,
 "nbformat_minor": 5
}
