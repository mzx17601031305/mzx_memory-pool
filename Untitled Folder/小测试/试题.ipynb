{
 "cells": [
  {
   "cell_type": "code",
   "execution_count": 12,
   "id": "493c79ca",
   "metadata": {},
   "outputs": [
    {
     "name": "stdout",
     "output_type": "stream",
     "text": [
      "请输入整数1\n",
      "请输入整数2\n",
      "请输入整数3\n",
      "请输入整数4\n",
      "请输入整数5\n",
      "你输入的整数为 [1, 2, 3, 4, 5]\n",
      "[5, 4, 3, 2, 1]\n"
     ]
    }
   ],
   "source": [
    "#输入一个不超过五位的正整数，输出其逆数。例如输入12345，输出应为54321\n",
    "\n",
    "\n",
    "lst = []\n",
    "a = 0\n",
    "while a < 5 :\n",
    "    num = input('请输入整数：')\n",
    "    lst.append(int(num))\n",
    "    a+=1\n",
    "\n",
    "print('你输入的整数为',list(lst))\n",
    "lst.reverse()\n",
    "print('你输入的整数倒序为',list(lst))"
   ]
  },
  {
   "cell_type": "code",
   "execution_count": 21,
   "id": "54fe31e3",
   "metadata": {
    "scrolled": true
   },
   "outputs": [
    {
     "name": "stdout",
     "output_type": "stream",
     "text": [
      "输入自然数100\n",
      "5050\n"
     ]
    }
   ],
   "source": [
    "#计算1+2+3…+n的值，n是从键盘输入的自然数\n",
    "num = int(input('输入自然数'))\n",
    "Sum = 0\n",
    "a = 0\n",
    "while a < num:\n",
    "    a = a+1\n",
    "    Sum = a + Sum\n",
    "print(Sum)"
   ]
  },
  {
   "cell_type": "code",
   "execution_count": 52,
   "id": "31fd6350",
   "metadata": {},
   "outputs": [
    {
     "name": "stdout",
     "output_type": "stream",
     "text": [
      "<class 'int'>\n",
      "[12, 234, 123, 23, 56, 11, 4, 3, 2, 6, 234, 123]\n",
      "831\n"
     ]
    }
   ],
   "source": [
    "#从终端（键盘）读入20个数据到数组中，统计其中正数的个数，并计算这些正数之和。\n",
    "lis = [12,234,123,12.12,23,56,11,-1,4,3,2,6,5.6,-4,234,'123','我',123,123.2,-123,0]\n",
    "print(type(lis[0]))\n",
    "lst = []\n",
    "lst_1 = []\n",
    "num = 0\n",
    "for i in lis:\n",
    "    if isinstance(i,int) and i > 0:\n",
    "        lst.append(i)\n",
    "print(list(lst))\n",
    "for b in lst:\n",
    "        num = num + b\n",
    "print(num)"
   ]
  },
  {
   "cell_type": "code",
   "execution_count": 34,
   "id": "2b00031f",
   "metadata": {},
   "outputs": [
    {
     "name": "stdout",
     "output_type": "stream",
     "text": [
      "[123, 456, 111, 987, 999]\n",
      "[999, 987, 111, 456, 123]\n",
      "999\n",
      "987\n",
      "111\n",
      "456\n",
      "123\n"
     ]
    }
   ],
   "source": [
    "#从终端（键盘）将5个整数输入到数组a中，然后将a逆序复制到数组b中，并输出b中各元素的值。\n",
    "lst = [123,456,111,987,999]\n",
    "print(lst)\n",
    "lst.reverse()\n",
    "lst_1 = lst.copy()\n",
    "print(lst_1)\n",
    "for i in lst_1:\n",
    "    print(i)"
   ]
  },
  {
   "cell_type": "code",
   "execution_count": 12,
   "id": "6eed85e6",
   "metadata": {},
   "outputs": [
    {
     "name": "stdout",
     "output_type": "stream",
     "text": [
      "五十:1二十:1十:1五:84\n"
     ]
    }
   ],
   "source": [
    "#要将五张100元的大钞票，换成等值的50元，20元，10元，5元一张的小钞票，每种面值至少1张，编程输出所有可能的换法，程序应适当考虑减少重复次数\n",
    "lst = [100,100,100,100,100]\n",
    "num = 0\n",
    "for b in lst:\n",
    "    num = num + b\n",
    "WuShi = 0\n",
    "ErShi = 0\n",
    "Shi = 0\n",
    "Wu = 0\n",
    "while WuShi <= 10 :\n",
    "    WuShi += 1\n",
    "    while ErShi <= 25:\n",
    "        ErShi += 1\n",
    "        while Shi <= 10:\n",
    "            Shi += 1\n",
    "            while Wu <= 100:\n",
    "                Wu += 1\n",
    "                if WuShi*50+ErShi*20+Shi*10+Wu*5==500:\n",
    "                    print(\"五十:%s二十:%s十:%s五:%s\"%(WuShi,ErShi,Shi,Wu))\n",
    "                \n",
    "    "
   ]
  },
  {
   "cell_type": "code",
   "execution_count": 19,
   "id": "398df297",
   "metadata": {},
   "outputs": [
    {
     "name": "stdout",
     "output_type": "stream",
     "text": [
      "输入自然数1000\n",
      " 23688.000000 的平方根为 153.909064\n"
     ]
    }
   ],
   "source": [
    "num = int(input('输入自然数'))\n",
    "Sum = 0\n",
    "a = 1\n",
    "while a < num :\n",
    "    if a%3 == 0 and a%7 == 0 :\n",
    "        Sum = a + Sum\n",
    "    a+=1\n",
    "Sum_1 = Sum ** 0.5 \n",
    "print(' %0.6f 的平方根为 %0.6f'%(Sum,Sum_1))"
   ]
  },
  {
   "cell_type": "code",
   "execution_count": 22,
   "id": "97a0cbd5",
   "metadata": {},
   "outputs": [
    {
     "name": "stdout",
     "output_type": "stream",
     "text": [
      "车牌号： 7744\n",
      "整数： 88\n"
     ]
    }
   ],
   "source": [
    "#一辆卡车违反交通规则，撞人后逃跑。现场有三人目击事件，但都没有记住车号，只记下车号的一些特征。甲说：牌照的前两位数字是相同的；\n",
    "#乙说：牌照的后两位数字是相同的，但与前两位不同；\n",
    "#丙是数学家，他说：四位的车号刚好是一个整数的平方。请根据以上线索找出车号。\n",
    "for num_1 in range(1,10):\n",
    "    for num_2 in range(10):\n",
    "        if num_1 != num_2:\n",
    "            K = num_1 * 1000 + num_1 * 100  + num_2 * 10 + num_2\n",
    "            for num in range(32,99):\n",
    "                if num ** 2 == K :\n",
    "                    print('车牌号：',K)\n",
    "                    print('整数：',num)"
   ]
  },
  {
   "cell_type": "code",
   "execution_count": 69,
   "id": "53ad2674",
   "metadata": {},
   "outputs": [
    {
     "name": "stdout",
     "output_type": "stream",
     "text": [
      "dict_keys([1, 2, 3, 4, 5, 6, 7, 8, 9, 10])\n",
      "<class 'str'> one\n",
      "<class 'dict'>\n",
      "请输入数字：1\n",
      "one\n"
     ]
    }
   ],
   "source": [
    "#输入1~10之间的一个数字，输出它对应的英文单词。\n",
    "dic = {1:'one',2:'two',3:'three',4:'four',5:'five',6:'six',7:'seven',8:'eight',9:'nine',10:'ten'}\n",
    "print(dic.keys())\n",
    "print(type(dic.get(1)),dic.get(1))\n",
    "print (type(dic))\n",
    "num = int(input('请输入数字：'))\n",
    "for i in dic:\n",
    "#    print(i,dic.get(i),type(i))\n",
    "    if i == num:\n",
    "        print(dic.get(i))\n",
    "\n"
   ]
  },
  {
   "cell_type": "code",
   "execution_count": 83,
   "id": "da989630",
   "metadata": {},
   "outputs": [
    {
     "name": "stdout",
     "output_type": "stream",
     "text": [
      "6\n",
      "36\n",
      "66\n",
      "96\n",
      "126\n",
      "156\n",
      "186\n",
      "216\n",
      "246\n",
      "276\n",
      "306\n",
      "336\n",
      "366\n",
      "396\n",
      "426\n",
      "456\n",
      "486\n",
      "516\n",
      "546\n",
      "576\n",
      "606\n",
      "636\n",
      "666\n",
      "696\n",
      "726\n",
      "756\n",
      "786\n",
      "816\n",
      "846\n",
      "876\n",
      "906\n",
      "936\n",
      "966\n",
      "996\n"
     ]
    }
   ],
   "source": [
    "#个位数为6且能被3整除但不能被5整除的三位自然数共有多少个，分别是哪些？\n",
    "num_3 = 6\n",
    "for num_1 in range(0,10):\n",
    "    for num_2 in range(0,10):\n",
    "        K = num_1*100+num_2*10+num_3\n",
    "#        print(K)\n",
    "        if K%3==0 :\n",
    "            if K%5!=0:\n",
    "                print(K)\n",
    "    "
   ]
  },
  {
   "cell_type": "code",
   "execution_count": 93,
   "id": "d9b9d9f1",
   "metadata": {},
   "outputs": [
    {
     "name": "stdout",
     "output_type": "stream",
     "text": [
      "输入数值:100\n",
      "171700 5050\n"
     ]
    }
   ],
   "source": [
    "'''\n",
    "用自然语言描述程序逻辑如下，试写程序。\n",
    "①\t设置环境；\n",
    "②\t定义变量i、j、s，以及用于放置结果的变量sum，并令sum初值为0；\n",
    "③\ti=1；\n",
    "④\t如果i≤100，则转⑤，否则转⑧；\n",
    "⑤\t令s=0，求前i个自然数之和，并放于变量s之中；\n",
    "⑥\tsum=sum+s；\n",
    "⑦\ti增加1，转④；\n",
    "⑧输出和sum，结束。\n",
    "Ps:求1+(1+2)+(1+2+3)+……+(1+2+3+4+……+i)(i<=100)\n",
    "'''\n",
    "s,Sum = 0,0\n",
    "j = int(input('输入数值:'))\n",
    "i=1\n",
    "while  i<=j:\n",
    "    i += 1\n",
    "    s = i - 1 + s\n",
    "    Sum = Sum + s\n",
    "print(Sum,s)"
   ]
  },
  {
   "cell_type": "code",
   "execution_count": 100,
   "id": "a8f563de",
   "metadata": {},
   "outputs": [
    {
     "name": "stdout",
     "output_type": "stream",
     "text": [
      "输入123456\n",
      "密码正确\n"
     ]
    }
   ],
   "source": [
    "'''\n",
    "用自然语言描述的程序逻辑为：\n",
    "①\t设置环境；\n",
    "②\t定义变量i、flag和password，并令flag=0，i=0；\n",
    "③\t用户回答口令，将其赋于password变量；\n",
    "④\t口令正确？如果是，则flag=1，转⑥。否则转⑤；\n",
    "⑤\t回答三次口令了吗？如果没有，计数器加1后（i++），转③，否则转⑥；\n",
    "⑥\t根据flag之值输出相应信息。\n",
    "'''\n",
    "i = 0\n",
    "flag = 0\n",
    "\n",
    "\n",
    "for i in range (0,3):\n",
    "    password = int(input('输入'))\n",
    "    if password == 123456:\n",
    "        flag = 1\n",
    "        if flag == 1:\n",
    "            print('密码正确')\n",
    "        break\n",
    "    else:\n",
    "        i+=1"
   ]
  },
  {
   "cell_type": "code",
   "execution_count": 1,
   "id": "7291ea0c",
   "metadata": {},
   "outputs": [
    {
     "name": "stdout",
     "output_type": "stream",
     "text": [
      "输入变量1234\n",
      "<class 'list'>\n"
     ]
    }
   ],
   "source": [
    "'''\n",
    "用自然语言描述的程序逻辑如下：\n",
    "①\t设置环境；\n",
    "②\t定义变量digit、x、y分别表示原始数的个位、原始数和逆数；\n",
    "③\t输入原始正整数x；\n",
    "④\t从x中分解出个位数字digit；\n",
    "⑤\t合并个位digit至逆数y中；\n",
    "⑥\t原始数x缩小10倍：x=x/10；\n",
    "⑦\t如果x非零，则转④；\n",
    "⑧\t输出逆数y，结束\n",
    "'''\n",
    "import copy\n",
    "x = input('输入变量')\n",
    "x_list = list([])\n",
    "print(type(x_list))\n",
    "for i in x :\n",
    "    i = int(i)\n",
    "    x_list.append(i)\n",
    "x_list.sort(reverse=True)\n",
    "y = copy.copy(x_list)\n",
    "x = int(x)\n",
    "for digit in x_list:\n",
    "    if x/10 == 0:\n",
    "        y.append(digit)\n",
    "        print(y)\n",
    "    break\n",
    "    \n",
    "\n"
   ]
  },
  {
   "cell_type": "markdown",
   "id": "e12de4dd",
   "metadata": {},
   "source": []
  },
  {
   "cell_type": "code",
   "execution_count": 6,
   "id": "f49a0a7e",
   "metadata": {},
   "outputs": [
    {
     "name": "stdout",
     "output_type": "stream",
     "text": [
      "第一次输入变长：12\n",
      "第二次输入变长：12\n",
      "第三次输入变长：3\n",
      "输入的变长为12、12、3的三角形为等腰三角形\n"
     ]
    }
   ],
   "source": [
    "#输入某三角形的三个边的长度，判断出这是个什么三角形（等腰、等边、任意，或不能构成）。\n",
    "num1 = int(input('第一次输入变长：'))\n",
    "num2 = int(input('第二次输入变长：'))\n",
    "num3 = int(input('第三次输入变长：'))\n",
    "if num1 == num2 ==num3:\n",
    "    print('输入的变长为%d、%d、%d的三角形为等边三角形'%(num1,num2,num3))\n",
    "elif num1 != num2 !=num3:\n",
    "    print('输入的变长为%d、%d、%d的三角形为任意三角形'%(num1,num2,num3))\n",
    "elif num1 == num2 or num1 == num3 or num2 ==3:\n",
    "    print('输入的变长为%d、%d、%d的三角形为等腰三角形'%(num1,num2,num3))"
   ]
  },
  {
   "cell_type": "raw",
   "id": "65f4370c",
   "metadata": {},
   "source": [
    "#输入10个数，分别统计其中正数、负数、零的个数。\n",
    "\n",
    "lst = []\n",
    "num1 = 0\n",
    "num2 = 0\n",
    "num3 = 0\n",
    "for count in range(10):\n",
    "    num = float(input('请输入数字：'))\n",
    "    lst.append(num)\n",
    "for i in lst:\n",
    "    if i > 0 :\n",
    "        num1 += 1\n",
    "    if i < 0 :\n",
    "        num2 += 1\n",
    "    if i == 0 :\n",
    "        num3 += 1\n",
    "print('正数数量：%d，负数数量：%d，零数量：%d'%(num1,num2,num3))"
   ]
  },
  {
   "cell_type": "code",
   "execution_count": 8,
   "id": "71f77b4f",
   "metadata": {},
   "outputs": [
    {
     "name": "stdout",
     "output_type": "stream",
     "text": [
      "输入N的值：100\n",
      "735\n"
     ]
    }
   ],
   "source": [
    "#先随机产生N个三位自然数输出，然后再输出其中同时是3、5、7倍数的数\n",
    "import random\n",
    "loop = int(input('输入N的值：'))\n",
    "for i in range(loop):\n",
    "    num = random.randint(99,1000)\n",
    "    if num%3 == 0 and num%5 == 0 and num%7 == 0:\n",
    "        print(num)\n",
    "\n"
   ]
  },
  {
   "cell_type": "code",
   "execution_count": 1,
   "id": "0db6691b",
   "metadata": {},
   "outputs": [
    {
     "data": {
      "text/plain": [
       "50"
      ]
     },
     "execution_count": 1,
     "metadata": {},
     "output_type": "execute_result"
    }
   ],
   "source": [
    "100 //2 "
   ]
  },
  {
   "cell_type": "code",
   "execution_count": 10,
   "id": "e119d500",
   "metadata": {},
   "outputs": [
    {
     "name": "stdout",
     "output_type": "stream",
     "text": [
      "第0次猜测，该数字在1到100之间：99\n",
      "无效的输入！请输入1到100之间的数字。\n",
      "\n",
      "第0次猜测，该数字在1到100之间：11\n",
      "无效的输入！请输入1到100之间的数字。\n",
      "\n",
      "第0次猜测，该数字在1到100之间：11\n",
      "无效的输入！请输入1到100之间的数字。\n",
      "\n",
      "第0次猜测，该数字在1到100之间：\n"
     ]
    },
    {
     "ename": "ValueError",
     "evalue": "invalid literal for int() with base 10: ''",
     "output_type": "error",
     "traceback": [
      "\u001b[0;31m---------------------------------------------------------------------------\u001b[0m",
      "\u001b[0;31mValueError\u001b[0m                                Traceback (most recent call last)",
      "\u001b[0;32m/var/folders/bc/59cpm_3j7h5_jt9jjnh9qpp40000gn/T/ipykernel_897/3893974755.py\u001b[0m in \u001b[0;36m<module>\u001b[0;34m\u001b[0m\n\u001b[1;32m      7\u001b[0m \u001b[0mcount\u001b[0m \u001b[0;34m=\u001b[0m \u001b[0;36m0\u001b[0m\u001b[0;34m\u001b[0m\u001b[0;34m\u001b[0m\u001b[0m\n\u001b[1;32m      8\u001b[0m \u001b[0;32mwhile\u001b[0m \u001b[0mnum\u001b[0m \u001b[0;34m<=\u001b[0m \u001b[0;36m100\u001b[0m  \u001b[0;34m:\u001b[0m\u001b[0;34m\u001b[0m\u001b[0;34m\u001b[0m\u001b[0m\n\u001b[0;32m----> 9\u001b[0;31m     \u001b[0mnum\u001b[0m \u001b[0;34m=\u001b[0m \u001b[0mint\u001b[0m\u001b[0;34m(\u001b[0m\u001b[0minput\u001b[0m\u001b[0;34m(\u001b[0m\u001b[0;34m\"第\"\u001b[0m \u001b[0;34m+\u001b[0m \u001b[0mstr\u001b[0m\u001b[0;34m(\u001b[0m\u001b[0mcount\u001b[0m\u001b[0;34m)\u001b[0m \u001b[0;34m+\u001b[0m \u001b[0;34m\"次猜测，该数字在\"\u001b[0m \u001b[0;34m+\u001b[0m \u001b[0mstr\u001b[0m\u001b[0;34m(\u001b[0m\u001b[0mold\u001b[0m\u001b[0;34m)\u001b[0m \u001b[0;34m+\u001b[0m \u001b[0;34m\"到\"\u001b[0m \u001b[0;34m+\u001b[0m \u001b[0mstr\u001b[0m\u001b[0;34m(\u001b[0m\u001b[0mhigh\u001b[0m\u001b[0;34m)\u001b[0m \u001b[0;34m+\u001b[0m \u001b[0;34m\"之间：\"\u001b[0m\u001b[0;34m)\u001b[0m\u001b[0;34m)\u001b[0m\u001b[0;34m\u001b[0m\u001b[0;34m\u001b[0m\u001b[0m\n\u001b[0m\u001b[1;32m     10\u001b[0m     \u001b[0;32mif\u001b[0m \u001b[0mnum\u001b[0m \u001b[0;34m==\u001b[0m \u001b[0mRandom\u001b[0m\u001b[0;34m:\u001b[0m\u001b[0;34m\u001b[0m\u001b[0;34m\u001b[0m\u001b[0m\n\u001b[1;32m     11\u001b[0m         \u001b[0mprint\u001b[0m\u001b[0;34m(\u001b[0m\u001b[0;34m'正确，你猜了%d次'\u001b[0m\u001b[0;34m%\u001b[0m\u001b[0;34m(\u001b[0m\u001b[0mcount\u001b[0m\u001b[0;34m)\u001b[0m\u001b[0;34m)\u001b[0m\u001b[0;34m\u001b[0m\u001b[0;34m\u001b[0m\u001b[0m\n",
      "\u001b[0;31mValueError\u001b[0m: invalid literal for int() with base 10: ''"
     ]
    }
   ],
   "source": [
    "\n",
    "import random\n",
    "\n",
    "Random = random.randint(1,100)\n",
    "#num_middle = 50\n",
    "old = 1\n",
    "high = 100\n",
    "count = 0\n",
    "while num <= 100  :\n",
    "    num = int(input(\"第\" + str(count) + \"次猜测，该数字在\" + str(old) + \"到\" + str(high) + \"之间：\"))\n",
    "    if num == Random:\n",
    "        print('正确，你猜了%d次'%(count))\n",
    "        break\n",
    "    elif num < Random:\n",
    "        if num < old or num < high:    \n",
    "            print('无效的输入！请输入%d到%d之间的数字。\\n'%(old,high))\n",
    "        continue\n",
    "        old = num + 1\n",
    "        print(\"猜错了哟！该数字大于%d。\\n\" %(num))\n",
    "    else :\n",
    "        if num < old or num < high:\n",
    "            print('无效的输入！请输入%d到%d之间的数字。\\n'%(old,high))\n",
    "        continue\n",
    "        old = num - 1\n",
    "        print(\"猜错了哟！该数字小于%d。\\n\" %(num))"
   ]
  },
  {
   "cell_type": "code",
   "execution_count": null,
   "id": "1daea602",
   "metadata": {},
   "outputs": [],
   "source": []
  },
  {
   "cell_type": "code",
   "execution_count": null,
   "id": "3dba53ea",
   "metadata": {},
   "outputs": [],
   "source": []
  }
 ],
 "metadata": {
  "kernelspec": {
   "display_name": "Python 3 (ipykernel)",
   "language": "python",
   "name": "python3"
  },
  "language_info": {
   "codemirror_mode": {
    "name": "ipython",
    "version": 3
   },
   "file_extension": ".py",
   "mimetype": "text/x-python",
   "name": "python",
   "nbconvert_exporter": "python",
   "pygments_lexer": "ipython3",
   "version": "3.9.7"
  }
 },
 "nbformat": 4,
 "nbformat_minor": 5
}
