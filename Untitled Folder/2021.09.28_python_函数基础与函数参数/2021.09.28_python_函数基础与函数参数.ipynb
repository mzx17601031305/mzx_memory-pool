{
 "cells": [
  {
   "cell_type": "code",
   "execution_count": 9,
   "id": "a84f0c97",
   "metadata": {},
   "outputs": [
    {
     "ename": "SyntaxError",
     "evalue": "invalid syntax (1608472509.py, line 43)",
     "output_type": "error",
     "traceback": [
      "\u001b[0;36m  File \u001b[0;32m\"/var/folders/bc/59cpm_3j7h5_jt9jjnh9qpp40000gn/T/ipykernel_2507/1608472509.py\"\u001b[0;36m, line \u001b[0;32m43\u001b[0m\n\u001b[0;31m    '''描述模块名称'''\u001b[0m\n\u001b[0m    ^\u001b[0m\n\u001b[0;31mSyntaxError\u001b[0m\u001b[0;31m:\u001b[0m invalid syntax\n"
     ]
    }
   ],
   "source": [
    "'''\n",
    "项目名称：函数基础与函数参数\n",
    "项目描述：2021.09.28_python_函数基础与函数参数\n",
    "项目环境：python 3.9.7\n",
    "作者所属：马梓轩\n",
    "'''\n",
    "\n",
    "'''\n",
    "函数：\n",
    "    （函数 = 方法 ，实现一个特定的操作）\n",
    "    ~定义：把一段代码封装起来，成为具有一段特点的功能、可重用\n",
    "    ~用法1：def 定义名():\n",
    "                代码\n",
    "                代码\n",
    "                代码\n",
    "    ~用法2：def 定义名():\n",
    "                pass #内容不能为空，pass占位\n",
    "    ~用法3：def 定义名():  \n",
    "                代码\n",
    "                return\"\" #返回值\n",
    "                \n",
    "    ~优点：提高项目的结构性，分工明确，提高代码可读性。\n",
    "          遇到重复功能时，直接调用\n",
    "          遇到拓展功能时，直接修改\n",
    "    ~定义函数的方法：\n",
    "            首字符不能是数字和特殊符号\n",
    "            区分大小写\n",
    "            不能有关键名\n",
    "            简明之意\n",
    "    ~返回值return\n",
    "            把这个值返回给函数本身\n",
    "            \n",
    "函数参数\n",
    "    ~用法：def 定义名(参数1，参数2)：\n",
    "                参数使用\n",
    "          print(定义名(参数1，参数2))#使用\n",
    "    ~类型：\n",
    "          行参：定义参数的时候，参数用的一个变量的名字\n",
    "          实参：在调用函数时传递的变量名\n",
    "行参进阶\n",
    "    ~必备参数：\n",
    "            def 定义名(参数1，参数2): #定义\n",
    "            \n",
    "            定义名(参数1，参数2)#调用\n",
    "            \n",
    "    ~默认参数：\n",
    "            def 定义名(参数1，参数2 = 赋值)#定义\n",
    "            \n",
    "            定义名(参数1)#调用\n",
    "            *参数2为默认参数\n",
    "    ~不定长参数：\n",
    "            def 定义名(*args):\n",
    "            \n",
    "            定义名(参数1,参数2,.....)\n",
    "            *args 形成元组\n",
    "            \n",
    "文档字符串\n",
    "    ~用法\n",
    "           def 定义名():\n",
    "              “”“描述模块名称“”“\n",
    "           定义名._doc_ #查看模块文档\n",
    "'''\n",
    "\n",
    "'''\n",
    "参数：\n",
    "\n",
    "'''"
   ]
  },
  {
   "cell_type": "code",
   "execution_count": 17,
   "id": "d1bbca75",
   "metadata": {},
   "outputs": [
    {
     "name": "stdout",
     "output_type": "stream",
     "text": [
      "下面是笔记\n",
      "\n",
      "姓名\n",
      "名字\n",
      "None\n",
      "姓名\n",
      "名字\n",
      "None\n",
      "2\n",
      "70\n"
     ]
    }
   ],
   "source": [
    "print('下面是笔记\\n')\n",
    "\n",
    "def Introduce(): #定义代码名\n",
    "    print('姓名')\n",
    "    print('名字')\n",
    "print(Introduce())#直接输出\n",
    "Int = Introduce() #代码赋值给变量\n",
    "print(Int)#输出\n",
    "\n",
    "def Pass():\n",
    "    pass #忽略\n",
    "\n",
    "def  num():\n",
    "    sum = 1+1\n",
    "    sum2 = 1 + 11\n",
    "    return sum     #调用\n",
    "print(num())#输出\n",
    "\n",
    "def add1(num1 = 20,num2 = 20):\n",
    "    Sum = num1 + num2\n",
    "    return Sum\n",
    "print(add1( 50,50))\n",
    "\n",
    "def add2(*args,num1 = 20):\n",
    "    Sum = num1 +args[0]\n",
    "    return Sum\n",
    "print(add2( 50))\n",
    "\n"
   ]
  },
  {
   "cell_type": "code",
   "execution_count": null,
   "id": "34c788b3",
   "metadata": {},
   "outputs": [],
   "source": []
  }
 ],
 "metadata": {
  "kernelspec": {
   "display_name": "Python 3 (ipykernel)",
   "language": "python",
   "name": "python3"
  },
  "language_info": {
   "codemirror_mode": {
    "name": "ipython",
    "version": 3
   },
   "file_extension": ".py",
   "mimetype": "text/x-python",
   "name": "python",
   "nbconvert_exporter": "python",
   "pygments_lexer": "ipython3",
   "version": "3.9.7"
  }
 },
 "nbformat": 4,
 "nbformat_minor": 5
}
