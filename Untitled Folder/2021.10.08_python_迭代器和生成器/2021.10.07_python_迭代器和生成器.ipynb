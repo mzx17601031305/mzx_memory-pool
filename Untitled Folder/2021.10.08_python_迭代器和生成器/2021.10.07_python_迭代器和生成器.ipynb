{
 "cells": [
  {
   "cell_type": "code",
   "execution_count": 1,
   "id": "31f95222",
   "metadata": {},
   "outputs": [
    {
     "data": {
      "text/plain": [
       "'\\n项目名称：2021.10.07_python_闭包与生成器\\n项目说明：2021.10.07_python_闭包与生成器\\n项目环境：python 3.9.7\\n作者所属：马梓轩\\n'"
      ]
     },
     "execution_count": 1,
     "metadata": {},
     "output_type": "execute_result"
    }
   ],
   "source": [
    "'''\n",
    "项目名称：2021.10.07_python_闭包与生成器\n",
    "项目说明：2021.10.07_python_闭包与生成器\n",
    "项目环境：python 3.9.7\n",
    "作者所属：马梓轩\n",
    "'''"
   ]
  },
  {
   "cell_type": "code",
   "execution_count": 2,
   "id": "1e712674",
   "metadata": {},
   "outputs": [
    {
     "data": {
      "text/plain": [
       "'\\n迭代器：\\n\\n生成器：\\n\\n\\n'"
      ]
     },
     "execution_count": 2,
     "metadata": {},
     "output_type": "execute_result"
    }
   ],
   "source": [
    "'''\n",
    "迭代器：\n",
    "    ~迭代：操作多个数据，并操作时基于之前数据的更新。\n",
    "    ~器：工具\n",
    "    ~作用：可以存储‘多个元素’的数据，进行更方便的读取操作\n",
    "    ~语法：可迭代对象.__iter__\n",
    "          iter(可迭代对象)\n",
    "          next(迭代对象) #从第一个值开始取到下一个\n",
    "    ~优点：减少代码量，更好管控有多个元素的值\n",
    "    ~缺点：无法获取长度，一次性用品无法返回\n",
    "生成器（yield）：\n",
    "    ~本质：自定义的的迭代器\n",
    "    （1）生成器(generator)能够迭代的关键是它有一个next()方法，工作原理就是通过重复调用next()方法，直到捕获一个异常。\n",
    "    （2）带有 yield 的函数不再是一个普通函数，而是一个生成器generator。\n",
    "      可用next()调用生成器对象来取值。next 两种方式 t.__next__()  |  next(t)。\n",
    "      可用for 循环获取返回值（每执行一次，取生成器里面一个值）\n",
    "      （基本上不会用next()来获取下一个返回值，而是直接使用for循环来迭代）。\n",
    "    （3）yield相当于 return 返回一个值，并且记住这个返回的位置，下次迭代时，代码从yield的下一条语句开始执行。\n",
    "    （4）.send() 和next()一样，都能让生成器继续往下走一步（下次遇到yield停），但send()能传一个值，这个值作为yield表达式整体的结果\n",
    "\n",
    "\n",
    "'''"
   ]
  },
  {
   "cell_type": "code",
   "execution_count": 26,
   "id": "ecb05bc7",
   "metadata": {},
   "outputs": [
    {
     "name": "stdout",
     "output_type": "stream",
     "text": [
      "01 1 1\n",
      "11 2 2\n",
      "12 3 3\n",
      "23 5 4\n",
      "35 8 5\n",
      "58 13 6\n",
      "813 21 7\n",
      "1321 34 8\n",
      "2134 55 9\n",
      "3455 89 10\n",
      "5589 144 11\n"
     ]
    }
   ],
   "source": [
    "\n",
    "\n",
    "\n",
    "\n",
    "\n",
    "def fibonacci(n): # 生成器函数 - 斐波那契\n",
    "    a, b, counter = 0, 1, 0\n",
    "    while True:\n",
    "        if (counter > n): \n",
    "            return\n",
    "        yield a\n",
    "        a, b = b, a + b\n",
    "        counter += 1\n",
    "        print(a,b,counter)\n",
    "f = fibonacci(10)\n",
    "for i in f:\n",
    "    print(i,end='')"
   ]
  },
  {
   "cell_type": "code",
   "execution_count": 25,
   "id": "ce0c440e",
   "metadata": {},
   "outputs": [
    {
     "name": "stdout",
     "output_type": "stream",
     "text": [
      "1\n",
      "2\n",
      "3\n",
      "4\n",
      "5\n",
      "6\n"
     ]
    }
   ],
   "source": [
    "a = '123456'\n",
    "b=iter(a)\n",
    "\n",
    "print(next(b))\n",
    "print(next(b))\n",
    "print(next(b))\n",
    "print(next(b))\n",
    "print(next(b))\n",
    "print(next(b))\n"
   ]
  },
  {
   "cell_type": "code",
   "execution_count": 34,
   "id": "cb790f8c",
   "metadata": {},
   "outputs": [
    {
     "name": "stdout",
     "output_type": "stream",
     "text": [
      "10\n",
      "newn None\n",
      "9\n",
      "newn None\n",
      "8\n",
      "newn None\n",
      "7\n",
      "newn None\n",
      "6\n",
      "newn None\n",
      "5\n",
      "newn None\n",
      "4\n",
      "newn None\n",
      "3\n",
      "newn None\n",
      "2\n",
      "newn None\n",
      "1\n",
      "newn None\n",
      "0\n"
     ]
    }
   ],
   "source": [
    "def count_down(n):\n",
    "    while n >= 0:\n",
    "        newn = yield n\n",
    "        print('newn', newn)\n",
    "        if newn:\n",
    "            print('if')\n",
    "            n = newn\n",
    "            print('n =', n)\n",
    "        else:\n",
    "            n -= 1\n",
    "            \n",
    "a = count_down(10)\n",
    "print(next(a))\n",
    "print(next(a))\n",
    "print(next(a))\n",
    "print(next(a))\n",
    "print(next(a))\n",
    "print(next(a))\n",
    "print(next(a))\n",
    "print(next(a))\n",
    "print(next(a))\n",
    "print(next(a))\n",
    "print(next(a))\n"
   ]
  },
  {
   "cell_type": "code",
   "execution_count": 45,
   "id": "669d3229",
   "metadata": {},
   "outputs": [
    {
     "name": "stdout",
     "output_type": "stream",
     "text": [
      "<generator object <genexpr> at 0x105ceb270>\n",
      "0\n",
      "10\n",
      "20\n",
      "30\n",
      "40\n",
      "50\n",
      "60\n",
      "70\n",
      "80\n",
      "90\n"
     ]
    }
   ],
   "source": [
    "a = ( i * 10 for i in range(10))\n",
    "print(a)\n",
    "count = 0\n",
    "while count<10:\n",
    "    print(next(a))\n",
    "    count+=1"
   ]
  },
  {
   "cell_type": "code",
   "execution_count": 46,
   "id": "b1d519a3",
   "metadata": {},
   "outputs": [
    {
     "data": {
      "text/plain": [
       "<generator object fun at 0x105ceb660>"
      ]
     },
     "execution_count": 46,
     "metadata": {},
     "output_type": "execute_result"
    }
   ],
   "source": [
    "def fun():\n",
    "    for i in range(10):\n",
    "        yield i \n",
    "fun()"
   ]
  },
  {
   "cell_type": "code",
   "execution_count": null,
   "id": "6fd1f9fe",
   "metadata": {},
   "outputs": [],
   "source": []
  }
 ],
 "metadata": {
  "kernelspec": {
   "display_name": "Python 3 (ipykernel)",
   "language": "python",
   "name": "python3"
  },
  "language_info": {
   "codemirror_mode": {
    "name": "ipython",
    "version": 3
   },
   "file_extension": ".py",
   "mimetype": "text/x-python",
   "name": "python",
   "nbconvert_exporter": "python",
   "pygments_lexer": "ipython3",
   "version": "3.9.7"
  }
 },
 "nbformat": 4,
 "nbformat_minor": 5
}
