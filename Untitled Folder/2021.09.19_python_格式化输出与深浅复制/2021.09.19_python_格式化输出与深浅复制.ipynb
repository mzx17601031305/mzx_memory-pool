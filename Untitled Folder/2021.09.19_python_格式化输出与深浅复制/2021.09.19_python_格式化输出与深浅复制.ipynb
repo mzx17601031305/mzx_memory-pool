{
 "cells": [
  {
   "cell_type": "code",
   "execution_count": 1,
   "id": "121e0919",
   "metadata": {},
   "outputs": [
    {
     "data": {
      "text/plain": [
       "'\\n\\n'"
      ]
     },
     "execution_count": 1,
     "metadata": {},
     "output_type": "execute_result"
    }
   ],
   "source": [
    "'''\n",
    "项目名称：格式化输出与深浅复制\n",
    "项目描述：2021.09.19_python_格式化输出与深浅复制\n",
    "项目环境：python 3.9.7\n",
    "作者所属：马梓轩\n",
    "\n",
    "格式化输出：\n",
    "    ~字符串相加：字符串+字符串 如果字符串+其他类型会报错\n",
    "    ~f-string：f‘{变量名}{变量名}’   *可以进行切片、增加、减少等\n",
    "占位符：\n",
    "    '%类型'%(变量)\n",
    "    ~%s：字符型\n",
    "    ~%d: 整形\n",
    "    ~%f：浮点型   *%.2f(保留2位小数)\n",
    "    ~%c：输出ASEii码\n",
    "firmat：\n",
    "    '{}'.format(变量)\n",
    "    '{2}{1}{0}'.format(变量1,变量2,变量3) *数值类型和序列类型都可\n",
    "join：\n",
    "    \"~\".join(['我','你'])  *分隔符.join(序列类型)\n",
    "多维列表的使用：\n",
    "    列表名 = [ [] , [] ]\n",
    "    ~下标输出：列表名[主][从]\n",
    "列表的深浅复制\n",
    "    ~主表\n",
    "        赋值主表为新表时：ID相同\n",
    "        COPY主表为新表时：ID不同\n",
    "    ~从表\n",
    "        赋值主表为新表时：ID相同\n",
    "        COPY主表为新表时：ID相同\n",
    "    ~浅复制\n",
    "        只复制外层列表，并不给内层列表新建内存空间\n",
    "    ~深复制\n",
    "        复制外层和内层，并都新建内存空间\n",
    "\n",
    "'''"
   ]
  },
  {
   "cell_type": "code",
   "execution_count": 43,
   "id": "d5718681",
   "metadata": {},
   "outputs": [
    {
     "name": "stdout",
     "output_type": "stream",
     "text": [
      "我是马梓轩今年 24\n",
      "我是马梓轩,今年24\n",
      "我是马轩,今年24\n",
      "我是马梓轩今年24身高174.20\n",
      "我是马梓轩,我今年24\n",
      "我是马梓轩,我今年24\n",
      "wo~ni\n",
      "5\n",
      "[[1, 2, 3], [4, 12, 6]]\n",
      "['wo', 2, 3] ['wo', 2, 3]\n",
      "4789186816 4789186816\n",
      "[1, 2, 3]\n",
      "4792359424 4791770624\n",
      "4795739008 4795954432\n",
      "4793946176 4793912000\n",
      "[['wo', 2, 3], [4, 5, 6]]\n",
      "[[1, 2, 3], [4, 5, 6]]\n"
     ]
    }
   ],
   "source": [
    "# ------------------实验------------------\n",
    "\n",
    "import copy\n",
    "name = '马梓轩'\n",
    "age = 24\n",
    "height = 174.2\n",
    "print('我是'+name+'今年',age)  #+号输出\n",
    "print(f'我是{name},今年{age}') #f-string号输出\n",
    "print(f'我是{name[::2]},今年{age}') #切片输出\n",
    "print('我是%s今年%d身高%.2f'%(name,age,height))\n",
    "\n",
    "print('我是{},我今年{}'.format(name,age))#format输出\n",
    "print('我是{1},我今年{0}'.format(age,name))#format 下标输出\n",
    "\n",
    "print('~'.join(['wo','ni'])) # ~分割\n",
    "\n",
    "lst = [[1,2,3],[4,5,6]] #建立多维列表\n",
    "print(lst[1][1]) #下标输出\n",
    "lst[1][1]=12\n",
    "print(lst)\n",
    "\n",
    "\n",
    "a = [1,2,3] #建立列表a\n",
    "b = a #建立a赋值给b\n",
    "a[0] = 'wo' #a修改值\n",
    "print(a,b) #a，b列表相同\n",
    "print(id(a),id(b))\n",
    "\n",
    "li1 = [1,2,3] #建立列表li1\n",
    "li2 = copy.copy(li1) #建立拷贝列表li1为li2，并新建\n",
    "li1[0] = 'wo' #修改值\n",
    "print(li2)\n",
    "print(id(li1),id(li2))#并不相同\n",
    "\n",
    "lst1 = [[1,2,3],[4,5,6]]\n",
    "\n",
    "\n",
    "'''\n",
    "lst2 = copy.copy(lst1)\n",
    "lst1[0][0] = 'wo'\n",
    "print(id(lst1),id(lst2)) #主表不同\n",
    "print(id(lst1[0]),id(lst2[0])) #从表相同\n",
    "'''\n",
    "\n",
    "\n",
    "\n",
    "lst2 = copy.deepcopy(lst1) #使用copy.deepcopy()进行拷贝\n",
    "lst1[0][0] = 'wo' #修改从表\n",
    "print(id(lst1),id(lst2)) #查询主表ID\n",
    "print(id(lst1[0]),id(lst2[0])) #查询从表ID\n",
    "print(lst1)\n",
    "print(lst2)"
   ]
  },
  {
   "cell_type": "code",
   "execution_count": 1,
   "id": "ceee5bfd",
   "metadata": {},
   "outputs": [
    {
     "name": "stdout",
     "output_type": "stream",
     "text": [
      "请输入你的名字马梓轩\n",
      "请输入你的年龄24\n",
      "请输入你的工作网络工程师\n",
      "请输入你的住址北京\n",
      "\n",
      "-------in for by 马梓轩-------\n",
      "name：马梓轩\n",
      "age：24\n",
      "occupation:网络工程师\n",
      "address:北京\n",
      "-------in for by 马梓轩-------\n",
      "\n"
     ]
    }
   ],
   "source": [
    "# -----------作业-----------\n",
    "name = input('请输入你的名字')\n",
    "age = int(input('请输入你的年龄'))\n",
    "occupation = input('请输入你的工作')\n",
    "address = input('请输入你的住址')\n",
    "\n",
    "info = '''\n",
    "-------in for by %s-------\n",
    "name：%s\n",
    "age：%d\n",
    "occupation:%s\n",
    "address:%s\n",
    "-------in for by %s-------\n",
    "'''%(name,name,age,occupation,address,name)\n",
    "print(info)\n"
   ]
  },
  {
   "cell_type": "code",
   "execution_count": 10,
   "id": "43a85d93",
   "metadata": {},
   "outputs": [
    {
     "name": "stdout",
     "output_type": "stream",
     "text": [
      "请输入变长A123\n",
      "请输入变长B12\n",
      "请输入变长C14\n",
      "三边为123、12、14,三角形为任意三角形\n"
     ]
    }
   ],
   "source": [
    "#输入某三角形的三个边的长度，判断出这是个什么三角形（等腰、等边、任意，或不能构成）。\n",
    "Sl_A = int(input('请输入变长A'))\n",
    "Sl_B = int(input('请输入变长B'))\n",
    "Sl_C = int(input('请输入变长C'))\n",
    "\n",
    "if Sl_A == Sl_B == Sl_C :\n",
    "    print(\"三边为%d%d%d,三角形为等边三角形\"%(Sl_A,Sl_B,Sl_C))\n",
    "if Sl_A == Sl_B or Sl_B == Sl_C  or Sl_C == Sl_A :\n",
    "    print(\"三边为%d%d%d,三角形为等腰三角形\"%(Sl_A,Sl_B,Sl_C))\n",
    "if Sl_A != Sl_B != Sl_C :\n",
    "    print(\"三边为%d、%d、%d,三角形为任意三角形\"%(Sl_A,Sl_B,Sl_C))\n",
    "    "
   ]
  },
  {
   "cell_type": "markdown",
   "id": "da40255b",
   "metadata": {},
   "source": []
  },
  {
   "cell_type": "code",
   "execution_count": 17,
   "id": "e2b1b147",
   "metadata": {},
   "outputs": [
    {
     "name": "stdout",
     "output_type": "stream",
     "text": [
      "1.0\n",
      "1.0 <class 'float'>\n"
     ]
    }
   ],
   "source": [
    "a = 12.12\n",
    "b = 1\n",
    "b = float(b)\n",
    "if a >0 :\n",
    "    print(b)\n",
    "print(b,type(a))"
   ]
  },
  {
   "cell_type": "code",
   "execution_count": 12,
   "id": "2e81c8b9",
   "metadata": {},
   "outputs": [
    {
     "name": "stdout",
     "output_type": "stream",
     "text": [
      "请输入数值123.123\n",
      "[123.123]\n",
      "请输入数值0\n",
      "[123.123, 0.0]\n",
      "请输入数值-1\n",
      "[123.123, 0.0, -1.0]\n",
      "<class 'float'>\n",
      "<class 'float'>\n",
      "<class 'float'>\n",
      "正数个数为：1\n",
      "负数个数为：1\n",
      "负数个数为：1\n",
      "\n"
     ]
    }
   ],
   "source": [
    "#输入10个数，分别统计其中正数、负数、零的个数。\n",
    "count_1 = 0 #正数\n",
    "count_2 = 0 #负数 \n",
    "count_3 = 0 #0\n",
    "lst = []\n",
    "for count in range(10):\n",
    "    num = float(input('请输入数值'))\n",
    "    lst.append(num)\n",
    "    print(lst)\n",
    "for num_1 in lst :\n",
    "    print(type(num_1))\n",
    "    if num_1 > 0:\n",
    "        count_1 += 1\n",
    "    if num_1 < 0:\n",
    "        count_2 += 1\n",
    "    if num_1 == 0:\n",
    "        count_3 += 1\n",
    "print('正数个数为：%d\\n负数个数为：%d\\n负数个数为：%d\\n'%(count_1,count_2,count_3))"
   ]
  },
  {
   "cell_type": "markdown",
   "id": "24e71ea5",
   "metadata": {},
   "source": []
  }
 ],
 "metadata": {
  "kernelspec": {
   "display_name": "Python 3 (ipykernel)",
   "language": "python",
   "name": "python3"
  },
  "language_info": {
   "codemirror_mode": {
    "name": "ipython",
    "version": 3
   },
   "file_extension": ".py",
   "mimetype": "text/x-python",
   "name": "python",
   "nbconvert_exporter": "python",
   "pygments_lexer": "ipython3",
   "version": "3.9.7"
  }
 },
 "nbformat": 4,
 "nbformat_minor": 5
}
